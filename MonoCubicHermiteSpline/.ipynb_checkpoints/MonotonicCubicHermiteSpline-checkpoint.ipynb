{
 "metadata": {
  "name": "",
  "signature": "sha256:e540db1327a5017a761a357919dc28512fb74fb6f769a817d19a6eaaa432c6f3"
 },
 "nbformat": 3,
 "nbformat_minor": 0,
 "worksheets": [
  {
   "cells": [
    {
     "cell_type": "heading",
     "level": 1,
     "metadata": {},
     "source": [
      "Monotonic Cubic Hermite Spline interpolation"
     ]
    },
    {
     "cell_type": "markdown",
     "metadata": {},
     "source": [
      "Given pair $y_k$ and $x_k$, a Cubic Spline try to fit a 3rd degree polinomial to 'explain' the intervals. For $x\\in[x_k,x_{k+1}]$\n",
      "$$y=f_k(x)=a_k(x-x_k)^3+b_k(x-x_k)^2+c_k(x-x_k)+d_k$$\n",
      "A Hermite condition are $y$ and $y^{\\prime}$ values at the boundaries.\n",
      "$$y_k=f_k(x_k)$$\n",
      "$$y^{\\prime}_k=f^{\\prime}_k(x_k)$$\n",
      "Working out the differentiates of $f_k$ w.r.t. $x$:\n",
      "$$f^{\\prime}_k(x)=3a_k(x-x_k)^2+2b_k(x-x_k)+c_k$$\n",
      "Now at the boundaries of $[x_k,x_{k+1}]$\n",
      "$$f_k(x_k)=d_k=y_k$$\n",
      "$$f^{\\prime}_k(x_k)=c_k=y^{\\prime}_k$$\n",
      "$$f_k(x_{k+1})=a_k\\Delta x_k^3+b_k\\Delta x_k^2+c_k\\Delta x+d_k=y_{k+1}$$\n",
      "$$f^{\\prime}_k(x_{k+1})=3a_k\\Delta x_k^2+2b_k\\Delta x_k+c_k=y^{\\prime}_{k+1}$$\n",
      "$a_k$ and $b_k$ can be derived as:\n"
     ]
    },
    {
     "cell_type": "code",
     "collapsed": false,
     "input": [],
     "language": "python",
     "metadata": {},
     "outputs": [],
     "prompt_number": 0
    },
    {
     "cell_type": "code",
     "collapsed": false,
     "input": [],
     "language": "python",
     "metadata": {},
     "outputs": []
    }
   ],
   "metadata": {}
  }
 ]
}