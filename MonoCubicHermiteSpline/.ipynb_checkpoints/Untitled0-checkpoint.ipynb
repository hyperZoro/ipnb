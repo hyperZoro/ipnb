{
 "metadata": {
  "name": ""
 },
 "nbformat": 3,
 "nbformat_minor": 0,
 "worksheets": [
  {
   "cells": [
    {
     "cell_type": "heading",
     "level": 1,
     "metadata": {},
     "source": [
      "Monotonic Cubic Hermite Spline interpolation"
     ]
    },
    {
     "cell_type": "markdown",
     "metadata": {},
     "source": [
      "$$f_k(x)=a_k(x-x_k)^3+b_k(x-x_k)^2+c_k(x-x_k)+d_k$$\n",
      "$$y_k=f_k(x_k)$$\n",
      "$$y^{\\prime}_k=f^{\\prime}_k(x_k)$$\n",
      "$$f^{\\prime}_k(x)=3a_k(x-x_k)^2+2b_k(x-x_k)+c_k$$\n",
      "$$f^{\\prime\\prime}_k(x)=6a_k(x-x_k)+2b_k$$\n",
      "$$f_k(x_k)=d_k=y_k$$\n",
      "$$f^{\\prime}_k(x_k)=c_k=y^{\\prime}_k$$\n",
      "$$f_k(x_{k+1})=a_k\\Delta x_k^3+b_k\\Delta x_k^2+c_k\\Delta x+d_k=y_{k+1}$$\n",
      "$$f^{\\prime}_k(x_{k+1})=3a_k\\Delta x_k^2+2b_k\\Delta x_k+c_k=y^{\\prime}_{k+1}$$"
     ]
    },
    {
     "cell_type": "code",
     "collapsed": false,
     "input": [],
     "language": "python",
     "metadata": {},
     "outputs": []
    }
   ],
   "metadata": {}
  }
 ]
}