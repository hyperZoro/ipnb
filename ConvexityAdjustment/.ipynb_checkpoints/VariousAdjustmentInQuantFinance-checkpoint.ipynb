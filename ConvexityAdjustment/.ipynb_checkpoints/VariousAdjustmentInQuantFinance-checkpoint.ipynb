{
 "metadata": {
  "name": "",
  "signature": "sha256:0e6e29d89a504774b060edde5eb9ab461102c40b8f1fabcd27a5ba7c46b30bfa"
 },
 "nbformat": 3,
 "nbformat_minor": 0,
 "worksheets": [
  {
   "cells": [
    {
     "cell_type": "heading",
     "level": 1,
     "metadata": {},
     "source": [
      "Various Adjustment in Quantitative Finance"
     ]
    },
    {
     "cell_type": "markdown",
     "metadata": {},
     "source": [
      "Just finding a place to write down all the different \"adjustments\" I have come across in Quantitative Finance context."
     ]
    },
    {
     "cell_type": "heading",
     "level": 2,
     "metadata": {},
     "source": [
      "Libor-in-arrears Adjustment"
     ]
    },
    {
     "cell_type": "heading",
     "level": 3,
     "metadata": {},
     "source": [
      "The Basics"
     ]
    },
    {
     "cell_type": "markdown",
     "metadata": {},
     "source": [
      "We define a zero coupon bond price as the time $t$ value of 1 unit of currency paid at some future time $T$. Denoted as:\n",
      "$$P(t,T)$$\n",
      "A Libor rate is the simple compounded interest rate one would pay for a (future) period starts at $T_1$ and ends at $T_2$, observed/forecasted from time $t$, the (forward) Libor rate could be written as:\n",
      "$$L(t,T_1,T_2)$$\n",
      "To work out the relationship between zero coupon bond and the Libor rate, we consider the following 2 strategies:\n",
      "1. Invest 1 dollar at time $T_1$, at the spot Libor rate then and get principal plus interest back at $T_2$, to finance that purchase, we need to buy a $T_1$ zero coupon bond at $t$ (which is worth $P(t,T_1)$). At this point of time, the Libor forcast is $L(t,T_1,T_2)$.\n",
      "2. Invest $P(t,T_1)$ dollar to buy $T_2$ zero coupon bond, one can buy a total of $P(t,T_1)/P(t,T_2)$ units, which will yield same dollar amount of payment at $T_2$.\n",
      "3. Stretegy 1 and 2 has the same amount of initial investment and should yield the same (expected) cashflow at time $T_2$, that is:\n",
      "\\begin{equation}\n",
      "\\begin{split}\n",
      "1+\\tau L(t,T_1,T_2) &= \\frac{P(t,T_1)}{P(t,T_2)} \\\\\n",
      "L(t,T_1,T_2) &= \\frac{P(t,T_1)-P(t,T_2)}{\\tau P(t,T_2)}\n",
      "\\end{split}\n",
      "\\end{equation}"
     ]
    },
    {
     "cell_type": "markdown",
     "metadata": {},
     "source": [
      "With a regular Libor cashflow, one fixes the rate at $T^*$ (usually a couple days before the period starts at $T_1$), this rate could be denoted as $L(T^*,T_1,T_2)$; while interest cashflow happens at $T_2$, with the amount being $\\tau L(T^*,T_1,T_2)$. For simplicity, we assume $T^* = T_1$.\n",
      "In order to price this cashflow, we choose $P(t,T_2)$ as our numeraire and use the corresponding probability measure, under which:\n",
      "$$L(t,T_1,T_2)=\\frac{P(t,T_1)-P(t,T_2)}{\\tau P(t,T_2)}$$\n",
      "is a martingale (asset over numeraire), so we have:\n",
      "$$\\frac{V_t}{P(t,T_2)}=\\mathbb{E}^{T_2}_t[\\tau L(T_1,T_1,T_2)|\\mathcal{F}_t]=\\tau L(t,T_1,T_2)=\\tau\\frac{P(t,T_1)-P(t,T_2)}{\\tau P(t,T_2)}$$\n",
      "\n",
      "This is a pretty intuitive result as it says the Price of future cashflow is equal to the forward Libor rate at $t$, which boils down to:\n",
      "$$V_t = P(t,T_1)-P(t,T_2)$$\n",
      "As a side result: the float side of a swap would be a sum of such Libor cashflows, for adjacent periods, the above equation shows the intermediate terms in the summation all cancel out.\n",
      "\\begin{equation}\n",
      "\\begin{split}\n",
      "V_{FloatLeg}(t)&=\\sum_{i=1}^{n}{V_i(t)} \\\\\n",
      "&=[P(t,T_1)-P(t,T_2)]+[P(t,T_2)-P(t,T_3)]+...+[P(t,T_{n-1})-P(t,T_n)]+[P(t,T_n)-P(t,T_{n+1})] \\\\\n",
      "&=P(t,T_1)-P(t,T_{n+1}) \\\\\n",
      "\\end{split}\n",
      "\\end{equation}\n",
      "Pretty good simplicification! This result leads to the par swap rate being:\n",
      "$$R_{ParSwap}=\\frac{P(t,T_1)-P(t,T_{n+1})}{\\sum_{i=1}^{n}{\\tau P(t,T_i)}}$$\n"
     ]
    },
    {
     "cell_type": "heading",
     "level": 3,
     "metadata": {},
     "source": [
      "Libor-in-Arrear"
     ]
    },
    {
     "cell_type": "markdown",
     "metadata": {},
     "source": [
      "With Libor-in-Arrear, the cashflow happens at the beginning of the coupon period ($T_1$) rather than the end ($T_2$). Some problems rise from this. To price this $T_1$ cashflow, we naturally use a $T_1$ measure (with the $T_1$ ZCB being the numeraire), but the Libor rate is not a martingale under this measure. Looking for the expectation of $L$ under the $T_1$ measure is not an easy task, so we perform a \"change of measure\" to $T_2$ under which $L$ is a martingale.\n"
     ]
    },
    {
     "cell_type": "heading",
     "level": 4,
     "metadata": {},
     "source": [
      "Radon\u2013Nikodym Derivative"
     ]
    },
    {
     "cell_type": "markdown",
     "metadata": {},
     "source": [
      "Whenever measure changing is needed, it is likely that the Radon\u2013Nikodym theorem is involved. To tackle this in the simplest manner, it basically says that: changing between probability measure Q and P, we have the following hold:\n",
      "$$\\mathbb{E}^{Q}[V(T)|\\mathcal{F_t}] = \\mathbb{E}^{P}[V(T)\\cdot\\frac{\\mathrm{d}\\mathbb{Q}}{\\mathrm{d}\\mathbb{P}}|\\mathcal{F}_t]$$\n",
      "where $\\frac{\\mathrm{d}\\mathbb{Q}}{\\mathrm{d}\\mathbb{P}}$ is called the Radon\u2013Nikodym Derivative.\n",
      "To see the intuition (and also help to memorise it), we consider the expectation is mathematically a integration. And althrough it may involve much deeper maths, it is quite intuitive to see:\n",
      "$$\\int_\\Omega{f\\mathrm{d}v} = \\int_\\Omega{f\\cdot\\frac{\\mathrm{d}v}{\\mathrm{d}w}\\mathrm{d}w}$$\n",
      "similaly, $\\frac{\\mathrm{d}v}{\\mathrm{d}w}$ is called the Radon\u2013Nikodym Derivative.\n",
      "Now coming back to our LIA context, we want to find the Radon\u2013Nikodym Derivative for changing from measure $\\mathbb{Q}_{T_1}$ to $\\mathbb{Q}_{T_2}$.\n",
      "We know for any equivalent probability measure * with corresponding numeraire $N$, $V(t)$ is the value of a tradable asset at time $t$\n",
      "$$V(t)=N(t)\\cdot\\mathbb{E}^*[\\frac{V(T)}{N(T)}|\\mathcal{F}_t]$$\n",
      "For measure $\\mathbb{Q}_{T_1}$, the numeraire is $P(t, T_1)$; while fore measure $\\mathbb{Q}_{T_2}$, the numeraire is $P(t, T_2)$, therefore:\n",
      "$$V(t)=P(t,T_1)\\cdot\\mathbb{E}^{T_1}[\\frac{V(T_1)}{P(T_1,T_1)}|\\mathcal{F}_t]=P(t,T_2)\\cdot\\mathbb{E}^{T_2}[\\frac{V(T_1)}{P(T_1,T_2)}|\\mathcal{F}_t]$$\n",
      "because $P(T_1,T_1)=1$, and the expectations are all taken under filtration $\\mathcal{F}_t$, we can rearrange the second equation to be:\n",
      "$$\\mathbb{E}^{T_1}[V(T_1)|\\mathcal{F}_t]=\\mathbb{E}^{T_2}[V(T_1)\\cdot\\frac{P(t,T_2)}{P(T_1,T_2)}\\cdot\\frac{P(T_1,T_1)}{P(t,T1)}|\\mathcal{F}_t]$$\n",
      "From Radon\u2013Nikodym Theorem, we also have:\n",
      "$$\\mathbb{E}^{T_1}[V(T_1)|\\mathcal{F}_t]=\\mathbb{E}^{T_2}[V(T_1)\\cdot\\frac{\\mathrm{d}\\mathbb{Q}_{T_1}}{\\mathrm{d}\\mathbb{Q}_{T_2}}|\\mathcal{F}_t]$$\n",
      "compare with previous result and we found:\n",
      "$$\\frac{\\mathrm{d}\\mathbb{Q}_{T_1}}{\\mathrm{d}\\mathbb{Q}_{T_2}}=\\frac{P(t,T_2)}{P(T_1,T_2)}\\cdot\\frac{P(T_1,T_1)}{P(t,T1)}$$"
     ]
    },
    {
     "cell_type": "heading",
     "level": 4,
     "metadata": {},
     "source": [
      "Change of Measure"
     ]
    },
    {
     "cell_type": "markdown",
     "metadata": {},
     "source": [
      "From the Libor rate formula:\n",
      "$$L(T_1,T_1,T_2)=\\frac{1}{\\tau} (\\frac{1}{P(T_1,T_2)}-1)$$\n",
      "therefore:\n",
      "$$P(T_1,T_2)=\\frac{1}{1+\\tau L{T_1,T_1,T_2}}$$\n",
      "\n",
      "To price the Libor-in-arrear cashflow, we need to take expectation under the $T_1$ measure. Perform change of measure:\n",
      "\n",
      "\\begin{equation}\n",
      "\\begin{split}\n",
      "\\mathbb{E}^{T_1}[L(T_1,T_1,T_2)| \\mathcal{F}_t]&=\\mathbb{E}^{T_2}[L(T_1,T_1,T_2)  \\cdot \\frac{\\mathrm{d}\\mathbb{Q}_{T_1}}{\\mathrm{d}\\mathbb{Q}_{T_2}}|\\mathcal{F}_t] \\\\\n",
      "&=\\mathbb{E}^{T_2}[L(T_1,T_1,T_2)  \\cdot \\frac{P(T_1,T_1)}{P(t,T_1)} \\cdot \\frac{P(t,T_2)}{P(T_1,T_2)}|\\mathcal{F}_t]\\\\\n",
      "&=\\frac{P(t,T_2)}{P(t,T_1)} \\mathbb{E}^{T_2}[L(T_1,T_1,T_2)  + \\tau L^2(T_1,T_1,T_2)|\\mathcal{F}_t] \\\\\n",
      "&=\\frac{P(t,T_2)}{P(t,T_1)} (\\mathbb{E}^{T_2}[L(T_1,T_1,T_2)|\\mathcal{F}_t]  + \\tau \\mathbb{E}^{T_2}[L^2(T_1,T_1,T_2)|\\mathcal{F}_t] )\n",
      "\\end{split} \n",
      "\\end{equation}\n",
      "The first expectation term is the same as the regular Libor case; while the second expectation involves a second order term of the Libor rate multiplied by the year fraction, which as a whole can be seen as a \"convexity adjustment\".\n",
      "Now the question is to work out the second term, which may involve a bit more modeling assumptions.\n",
      "\n"
     ]
    },
    {
     "cell_type": "heading",
     "level": 4,
     "metadata": {},
     "source": [
      "Replication by Options"
     ]
    },
    {
     "cell_type": "heading",
     "level": 4,
     "metadata": {},
     "source": [
      "Libor Market Model Style"
     ]
    },
    {
     "cell_type": "heading",
     "level": 2,
     "metadata": {},
     "source": [
      "CMS Linked Cashflows"
     ]
    },
    {
     "cell_type": "markdown",
     "metadata": {},
     "source": [
      "CMS (constant matuirty swap) rate is defined as:\n",
      "$$S(t)=\\frac{P(t,T_0)-P(t,T_N)}{A(t)}$$\n",
      "where\n",
      "$$A(t)=\\sum_{i=1}^{N}\\tau_i P(t,T_i)$$\n",
      "and\n",
      "$$\\tau=T_{i}-T_{i-1}$$\n",
      "The CMS rate $S(t)$ is a martingale under the Annuity risk measure with $A(t)$ being the corresponding numerare, i.e.:\n",
      "$$S(0)=\\mathbb{E}^A[S(T)]$$\n",
      "This, however, does not coincide with the $T_p$-forward **pricing** measure with $T_p$ linked to the cashflow payment date.\n",
      "$$V(0)=P(0,T_p)\\mathbb{E}^{T_p}[\\frac{V(S(T))}{P(T,T_p)}]$$\n",
      "To find the Radon-Nicodym derivative, we perform a change from $T_p$-forward measure to the Annuity measure.\n",
      "$$V(t)=P(t,T_p)\\mathbb{E}^{T_p}[\\frac{V(T)}{P(T,T_p)}]=A(t)\\mathbb{E}^{A}[\\frac{V(T)}{A(T)}]$$\n",
      "The expectations are both taken under the filtration $\\mathcal{F}_t$, rearrange the equation and we get:\n",
      "$$\\mathbb{E}^{T_p}[V(T)]=\\mathbb{E}^{A}[V(T)\\frac{A(t) \\cdot P(T,T_p)}{A(T) \\cdot P(t,T_p)}]$$\n",
      "The Radon-Nickodym Derivative is:\n",
      "$$\\frac{\\mathbb{Q}_{T_p}}{\\mathbb{Q}_A}=\\frac{A(t) \\cdot P(T,T_p)}{A(T) \\cdot P(t,T_p)}$$\n",
      "Note assume $V(T)=S(T)$, and $T_p=T=T_0$ (the $T$-starting CMS rate paid at $T$):\n",
      "$$V(0)=\\frac{A(0)}{P(0,T)}\\mathbb{E}^A[\\frac{S(T)}{A(T)}]$$\n",
      "a 'straight forward' cashflow is not that straight forward in pricing."
     ]
    },
    {
     "cell_type": "heading",
     "level": 2,
     "metadata": {},
     "source": [
      "Quanto Adjustment"
     ]
    },
    {
     "cell_type": "markdown",
     "metadata": {},
     "source": [
      "When a trade has different settlment and reference currencies, it is said to have a \"quanto\" feature. The name \"quanto\" itself comes from the fact that it derives from quantitative modeling reasons."
     ]
    },
    {
     "cell_type": "heading",
     "level": 3,
     "metadata": {},
     "source": [
      "FX Parity"
     ]
    },
    {
     "cell_type": "markdown",
     "metadata": {},
     "source": [
      "Consider two portfolios.\n",
      "1. For portfolio 1, hold 1 unit of foreign currency (denoted by F) until a future time (t), and then exchange for domestic currency (denoted by D) at the Forward FX rate (denoted by Y, for currency pair For-Dom or For/Dom).\n",
      "2. For portfolio 2, exchange 1 unit of foreign currency for domestic currency at start (0) at spot FX rate (denoted by X), and hold onto it until future time t.\n",
      "\n",
      "(For-Dom:n means 1 unit of foreign currency is equal to n unit of domestic currency)\n",
      "\n",
      "The two portfolios has the same initial cost (1 unit of foreign currency) and must have the same future value at time T because of arbitrage free. Therefore:\n",
      "$$B_F(t) \\cdot F_t = X_0 \\cdot B_D(t)$$\n",
      "which is:\n",
      "$$F_t = X_0 \\frac{B_D(t)}{B_F(t)}$$\n",
      "here $B$ denotes the cash account, meaning the future value of 1 unit of currency.\n",
      "$$B_i(t) = e^{\\int_0^t{r_i\\mathrm{d}s}}$$\n",
      "combine and we have:\n",
      "$$\\mathbb{E}[X_t]=F_t= X_0 \\cdot e^{\\int_0^t{(r_D-r_F)\\mathrm{d}s}}$$"
     ]
    },
    {
     "cell_type": "markdown",
     "metadata": {},
     "source": []
    },
    {
     "cell_type": "code",
     "collapsed": false,
     "input": [],
     "language": "python",
     "metadata": {},
     "outputs": []
    }
   ],
   "metadata": {}
  }
 ]
}