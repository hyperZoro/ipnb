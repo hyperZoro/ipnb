{
 "metadata": {
  "name": "",
  "signature": "sha256:c1554780feaf2360d8ccdf00c0dcab28d5115468e0ed9481a607f181264e0ca2"
 },
 "nbformat": 3,
 "nbformat_minor": 0,
 "worksheets": [
  {
   "cells": [
    {
     "cell_type": "heading",
     "level": 1,
     "metadata": {},
     "source": [
      "Object Oriented With Python"
     ]
    },
    {
     "cell_type": "markdown",
     "metadata": {},
     "source": [
      "Python is said to be designed with OO in mind, here we try out a few ideas."
     ]
    },
    {
     "cell_type": "code",
     "collapsed": false,
     "input": [
      "#base clase PayOff definition\n",
      "class PayOff:\n",
      "    def __init__(self):\n",
      "        print '__init__() functon of derived class must be implemented.'\n",
      "    def __str__(self):\n",
      "        print '__str__() functon of derived class must be implemented.'\n",
      "    def getPayOff(self):\n",
      "        print 'getPayOff() of inherited class must be implemented.'\n",
      "    \n",
      "    \n",
      "    \n",
      "\n",
      "#derived clases\n",
      "\n",
      "\n",
      "class PayOffOption(PayOff):\n",
      "    def __init__(self, Strike, Type):\n",
      "        self.K = float(Strike);\n",
      "        self.Type = 1 if (Type=='Call' or Type=='CALL') else 0;\n",
      "    def getPayOff(self, Spot):\n",
      "\n",
      "        return {\n",
      "            1: lambda x: max(Spot-self.K,0.0),\n",
      "            0: lambda x: max(self.K-Spot,0.0)\n",
      "                  }[self.Type](Spot);\n",
      "    def __str__(self):\n",
      "        strType = 'Call' if self.Type==1 else 'Put';\n",
      "        return 'PayOffOption (Strike=%.2f , Type=%s)' %(self.K, strType);\n",
      "        \n",
      "\n",
      "class PayOffDigitalOption(PayOff):\n",
      "    def __init__(self, Strike, Type):\n",
      "        self.K = float(Strike);\n",
      "        self.Type = 1 if (Type=='Call' or Type=='CALL') else 0;\n",
      "    def getPayOff(self, Spot):\n",
      "\n",
      "        return {\n",
      "            1: lambda x: 1.0 if x>=self.K else 0.0,\n",
      "            0: lambda x: 1.0 if x<=self.K else 0.0\n",
      "                  }[self.Type](Spot);\n",
      "    def __str__(self):\n",
      "        strType = 'Call' if self.Type==1 else 'Put';\n",
      "        return 'PayOffDigitalOption (Strike=%.2f , Type=%s)' %(self.K, strType);\n",
      "\n",
      "                "
     ],
     "language": "python",
     "metadata": {},
     "outputs": [],
     "prompt_number": 10
    },
    {
     "cell_type": "markdown",
     "metadata": {},
     "source": [
      "_PayOff_ is the base class, used to define the interface, while _PayOffOption_ and _PayOffDigitalOption_ are derived classes. the \\_\\_init\\_\\_ function is the initializer; while the \\_\\_str\\_\\_ function is used with the _print_ statement __Note all function takes \"self\" as an input.__\n",
      "Also, Python does not have a switch-case statement, but same functionality is realized by:"
     ]
    },
    {
     "cell_type": "raw",
     "metadata": {},
     "source": [
      "{   \n",
      "    1: lambda x: 1.0 if x>=self.K else 0.0,\n",
      "    0: lambda x: 1.0 if x<=self.K else 0.0\n",
      "}[self.Type](Spot)"
     ]
    },
    {
     "cell_type": "markdown",
     "metadata": {},
     "source": [
      "Looks very confusing, doesn't it? In fact it is making use of the Python data type dictionary, which is a key-value pair map. See the code below, variable a is defined as a dictionary with inline functions mapped to the keys. There are 3 lines 'indexing' a below, first 2 lines are the same requestion key '2' passing an input x=20 to the inline functions. The third line handle out of range cases."
     ]
    },
    {
     "cell_type": "code",
     "collapsed": false,
     "input": [
      "a = {1: lambda x: 1 if x>15 else 0,\n",
      "     2: lambda x: 2 if x>15 else 0}\n",
      "print a[2](20)\n",
      "print a.get(2)(20)\n",
      "print a.get(3, lambda x:'shit')(20)"
     ],
     "language": "python",
     "metadata": {},
     "outputs": [
      {
       "output_type": "stream",
       "stream": "stdout",
       "text": [
        "2\n",
        "2\n",
        "shit\n"
       ]
      }
     ],
     "prompt_number": 8
    },
    {
     "cell_type": "code",
     "collapsed": false,
     "input": [
      "p1 = PayOffOption(100,'Call')\n",
      "p2 = PayOffDigitalOption(100,'Put')\n",
      "print p1.getPayOff(110.3333)\n",
      "print p1\n",
      "print p1.__dict__\n",
      "print p2.getPayOff(110)\n",
      "print p2\n",
      "print p2.__dict__"
     ],
     "language": "python",
     "metadata": {},
     "outputs": [
      {
       "output_type": "stream",
       "stream": "stdout",
       "text": [
        "10.3333\n",
        "PayOffOption (Strike=100.00 , Type=Call)\n",
        "{'K': 100.0, 'Type': 1}\n",
        "0.0\n",
        "PayOffDigitalOption (Strike=100.00 , Type=Put)\n",
        "{'K': 100.0, 'Type': 0}\n"
       ]
      }
     ],
     "prompt_number": 11
    },
    {
     "cell_type": "code",
     "collapsed": false,
     "input": [],
     "language": "python",
     "metadata": {},
     "outputs": []
    }
   ],
   "metadata": {}
  }
 ]
}